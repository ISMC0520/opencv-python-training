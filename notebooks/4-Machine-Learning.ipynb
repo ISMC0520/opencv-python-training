{
 "cells": [
  {
   "cell_type": "code",
   "execution_count": 1,
   "metadata": {},
   "outputs": [],
   "source": [
    "import cv2\n",
    "import numpy as np\n",
    "import matplotlib.pyplot as plt\n",
    "from sklearn.decomposition import PCA"
   ]
  },
  {
   "cell_type": "markdown",
   "metadata": {},
   "source": [
    "# Importing Image\n"
   ]
  },
  {
   "cell_type": "code",
   "execution_count": 28,
   "metadata": {},
   "outputs": [
    {
     "data": {
      "text/plain": [
       "(840, 840)"
      ]
     },
     "execution_count": 28,
     "metadata": {},
     "output_type": "execute_result"
    }
   ],
   "source": [
    "# mnist = cv2.imread('../datasets/digits.png', 0)\n",
    "mnist = cv2.imread('../datasets/fashion.png', 0)\n",
    "mnist.shape"
   ]
  },
  {
   "cell_type": "markdown",
   "metadata": {},
   "source": [
    "### Getting Shape"
   ]
  },
  {
   "cell_type": "code",
   "execution_count": 29,
   "metadata": {},
   "outputs": [
    {
     "data": {
      "text/plain": [
       "(30, 30, 28, 28)"
      ]
     },
     "execution_count": 29,
     "metadata": {},
     "output_type": "execute_result"
    }
   ],
   "source": [
    "# 50 images column 100 images row\n",
    "\n",
    "# images = np.array([np.hsplit(row, 100) for row in np.vsplit(mnist, 50)], dtype = np.float32)\n",
    "images = np.array([np.hsplit(row, 30) for row in np.vsplit(mnist, 30)], dtype = np.float32)\n",
    "images.shape"
   ]
  },
  {
   "cell_type": "markdown",
   "metadata": {},
   "source": [
    "### Train and Test  Features"
   ]
  },
  {
   "cell_type": "code",
   "execution_count": 35,
   "metadata": {},
   "outputs": [],
   "source": [
    "# train_features = images[:,:50].reshape(-1, (20 * 20))\n",
    "\n",
    "# test_features = images[:, 50:100].reshape(-1, (20 * 20))\n",
    "\n",
    "train_features = images[:,:15].reshape(-1, (28 * 28))\n",
    "\n",
    "test_features = images[:, 15:30].reshape(-1, (28 * 28))"
   ]
  },
  {
   "cell_type": "markdown",
   "metadata": {},
   "source": [
    "### Create Labels"
   ]
  },
  {
   "cell_type": "code",
   "execution_count": 36,
   "metadata": {},
   "outputs": [],
   "source": [
    "# k = np.arange(10)\n",
    "# train_labels = np.repeat(k, 250).reshape(-1, 1)\n",
    "# test_labels = train_labels.copy()\n",
    "\n",
    "k = np.arange(10)\n",
    "train_labels = np.repeat(k, 45).reshape(-1, 1)\n",
    "test_labels = train_labels.copy()"
   ]
  },
  {
   "cell_type": "markdown",
   "metadata": {},
   "source": [
    "### Create KNN "
   ]
  },
  {
   "cell_type": "code",
   "execution_count": 37,
   "metadata": {},
   "outputs": [
    {
     "data": {
      "text/plain": [
       "True"
      ]
     },
     "execution_count": 37,
     "metadata": {},
     "output_type": "execute_result"
    }
   ],
   "source": [
    "knn = cv2.ml.KNearest_create()\n",
    "knn.train(train_features, cv2.ml.ROW_SAMPLE, train_labels)"
   ]
  },
  {
   "cell_type": "markdown",
   "metadata": {},
   "source": [
    "### Using the trained KNN"
   ]
  },
  {
   "cell_type": "code",
   "execution_count": null,
   "metadata": {},
   "outputs": [],
   "source": []
  },
  {
   "cell_type": "code",
   "execution_count": 38,
   "metadata": {},
   "outputs": [],
   "source": [
    "#use K = 3\n",
    "ret, result, neighbors, dist = knn.findNearest(test_features, 3)"
   ]
  },
  {
   "cell_type": "markdown",
   "metadata": {},
   "source": [
    "### Measure Model Accuracy"
   ]
  },
  {
   "cell_type": "code",
   "execution_count": 39,
   "metadata": {},
   "outputs": [
    {
     "name": "stdout",
     "output_type": "stream",
     "text": [
      "70.88888888888889\n"
     ]
    }
   ],
   "source": [
    "#check if results are correct\n",
    "matches = np.equal(result, test_labels)\n",
    "#convert bool to int\n",
    "matches = matches.astype(np.int)\n",
    "#\n",
    "correct = np.count_nonzero(matches)\n",
    "accuracy = (correct * 100.00) / result.size\n",
    "\n",
    "#display knn accuracy\n",
    "print(accuracy)"
   ]
  },
  {
   "cell_type": "markdown",
   "metadata": {},
   "source": [
    "# SVM"
   ]
  },
  {
   "cell_type": "code",
   "execution_count": 40,
   "metadata": {},
   "outputs": [],
   "source": [
    "svm = cv2.ml.SVM_create()"
   ]
  },
  {
   "cell_type": "code",
   "execution_count": 41,
   "metadata": {},
   "outputs": [],
   "source": [
    "svm.setKernel(cv2.ml.SVM_LINEAR)\n",
    "svm.setC(2.67)\n",
    "svm.setGamma(5.383)\n",
    "svm.setType(cv2.ml.SVM_C_SVC)"
   ]
  },
  {
   "cell_type": "markdown",
   "metadata": {},
   "source": [
    "### Training the SVM "
   ]
  },
  {
   "cell_type": "code",
   "execution_count": 42,
   "metadata": {},
   "outputs": [
    {
     "data": {
      "text/plain": [
       "True"
      ]
     },
     "execution_count": 42,
     "metadata": {},
     "output_type": "execute_result"
    }
   ],
   "source": [
    "svm.train(train_features, cv2.ml.ROW_SAMPLE, train_labels)"
   ]
  },
  {
   "cell_type": "code",
   "execution_count": 43,
   "metadata": {},
   "outputs": [],
   "source": [
    "result = svm.predict(test_features)"
   ]
  },
  {
   "cell_type": "markdown",
   "metadata": {},
   "source": [
    "### Getting the Accuracy for SVM"
   ]
  },
  {
   "cell_type": "code",
   "execution_count": 44,
   "metadata": {},
   "outputs": [],
   "source": [
    "matches = np.equal(result[1], test_labels)\n",
    "matches = matches.astype(np.int)\n",
    "correct = np.count_nonzero(matches)\n",
    "accuracy = (correct * 100.00) / result[1].size"
   ]
  },
  {
   "cell_type": "code",
   "execution_count": 45,
   "metadata": {},
   "outputs": [
    {
     "name": "stdout",
     "output_type": "stream",
     "text": [
      "Accuracy: 74.66666666666667\n"
     ]
    }
   ],
   "source": [
    "print(\"Accuracy: {}\".format(accuracy))"
   ]
  },
  {
   "cell_type": "markdown",
   "metadata": {},
   "source": [
    "### Mean Normalization"
   ]
  },
  {
   "cell_type": "code",
   "execution_count": 21,
   "metadata": {},
   "outputs": [],
   "source": [
    "image_1 = cv2.imread('../datasets/digits.png', 0)\n",
    "images1 = np.array([np.hsplit(row, 100) for row in np.vsplit(image_1, 50)], dtype = np.float32)\n",
    "\n",
    "image_2 = cv2.imread('../datasets/fashion.png', 0)\n",
    "images2 = np.array([np.hsplit(row, 30) for row in np.vsplit(image_2, 30)], dtype = np.float32)\n",
    "\n",
    "train_features_1 = images1[:,:50].reshape(-1, (20 * 20)) #Digits\n",
    "train_features_2 = images2[:,:15].reshape(-1, (28 * 28)) #Fashion\n",
    "\n",
    "test_features_1 = images1[:, 50:100].reshape(-1, (20 * 20)) \n",
    "test_features_2 = images2[:, 15:30].reshape(-1, (28 * 28))\n",
    "\n",
    "#Normalizing\n",
    "train_features_1 -= np.mean(train_features_1, axis = 0)\n",
    "test_features_1 -= np.mean(test_features_1, axis = 0)\n",
    "\n"
   ]
  },
  {
   "cell_type": "code",
   "execution_count": 22,
   "metadata": {},
   "outputs": [
    {
     "data": {
      "text/plain": [
       "True"
      ]
     },
     "execution_count": 22,
     "metadata": {},
     "output_type": "execute_result"
    }
   ],
   "source": [
    "#KNN\n",
    "k_1 = np.arange(10)\n",
    "train_labels_1 = np.repeat(k_1, 250).reshape(-1, 1)\n",
    "test_labels_1 = train_labels_1.copy()\n",
    "knn_1 = cv2.ml.KNearest_create()\n",
    "knn_1.train(train_features_1, cv2.ml.ROW_SAMPLE, train_labels_1)\n",
    "\n",
    "k_2 = np.arange(10)\n",
    "train_labels_2 = np.repeat(k_2, 45).reshape(-1, 1)\n",
    "test_labels_2 = train_labels_2.copy()\n",
    "knn_2 = cv2.ml.KNearest_create()\n",
    "knn_2.train(train_features_2, cv2.ml.ROW_SAMPLE, train_labels_2)"
   ]
  },
  {
   "cell_type": "code",
   "execution_count": 23,
   "metadata": {},
   "outputs": [
    {
     "name": "stdout",
     "output_type": "stream",
     "text": [
      "91.56\n"
     ]
    }
   ],
   "source": [
    "#use K = 3\n",
    "ret, result, neighbors, dist = knn_1.findNearest(test_features_1, 3)\n",
    "\n",
    "#Accuracy\n",
    "#check if results are correct\n",
    "matches = np.equal(result, test_labels_1)\n",
    "#convert bool to int\n",
    "matches = matches.astype(np.int)\n",
    "#\n",
    "correct = np.count_nonzero(matches)\n",
    "accuracy = (correct * 100.00) / result.size\n",
    "\n",
    "#display knn accuracy\n",
    "print(accuracy)\n"
   ]
  },
  {
   "cell_type": "markdown",
   "metadata": {},
   "source": [
    "### Using PCA in two images"
   ]
  },
  {
   "cell_type": "code",
   "execution_count": 23,
   "metadata": {},
   "outputs": [],
   "source": [
    "image_1 = cv2.imread('../datasets/digits.png', 0)\n",
    "images1 = np.array([np.hsplit(row, 100) for row in np.vsplit(image_1, 50)], dtype = np.float32)\n",
    "\n",
    "image_2 = cv2.imread('../datasets/fashion.png', 0)\n",
    "images2 = np.array([np.hsplit(row, 30) for row in np.vsplit(image_2, 30)], dtype = np.float32)"
   ]
  },
  {
   "cell_type": "code",
   "execution_count": 31,
   "metadata": {},
   "outputs": [],
   "source": [
    "train_features_1 = images1[:,:50].reshape(-1, (20 * 20)) #Digits\n",
    "test_features_1 = images1[:, 50:100].reshape(-1, (20 * 20)) \n",
    "\n",
    "train_features_2 = images2[:,:15].reshape(-1, (28 * 28)) #Fashion\n",
    "test_features_2 = images2[:, 15:30].reshape(-1, (28 * 28))"
   ]
  },
  {
   "cell_type": "code",
   "execution_count": 25,
   "metadata": {},
   "outputs": [
    {
     "name": "stdout",
     "output_type": "stream",
     "text": [
      "100\n",
      "30\n"
     ]
    }
   ],
   "source": [
    "# pca_1 = PCA(n_components = images1.shape[1])\n",
    "# pca_2 = PCA(n_components = images2.shape[1])\n",
    "\n",
    "print(images1.shape[1])\n",
    "print(images2.shape[1])\n",
    "pca_1 = PCA(n_components = 100)\n",
    "pca_2 = PCA(n_components = 100)"
   ]
  },
  {
   "cell_type": "markdown",
   "metadata": {},
   "source": [
    "### Plotting PCA"
   ]
  },
  {
   "cell_type": "code",
   "execution_count": 26,
   "metadata": {},
   "outputs": [
    {
     "data": {
      "text/plain": [
       "<function matplotlib.pyplot.show>"
      ]
     },
     "execution_count": 26,
     "metadata": {},
     "output_type": "execute_result"
    },
    {
     "data": {
      "image/png": "[encoded data removed]",
      "text/plain": [
       "<matplotlib.figure.Figure at 0x25f84dc4550>"
      ]
     },
     "metadata": {},
     "output_type": "display_data"
    }
   ],
   "source": [
    "#digits\n",
    "pca_1.fit(train_features_1)\n",
    "plt.plot(np.cumsum(pca_1.explained_variance_ratio_))\n",
    "plt.xlabel('Number of Components')\n",
    "plt.ylabel('Cumulative Explained Variance')\n",
    "plt.imshow(images1[0,0], cmap='gray')\n",
    "plt.show\n",
    "\n",
    "#fashion\n",
    "pca_2.fit(train_features_2)\n",
    "plt.plot(np.cumsum(pca_2.explained_variance_ratio_))\n",
    "plt.xlabel('Number of Components')\n",
    "plt.ylabel('Cumulative Explained Variance')\n",
    "plt.show"
   ]
  },
  {
   "cell_type": "code",
   "execution_count": 27,
   "metadata": {},
   "outputs": [
    {
     "data": {
      "text/plain": [
       "<matplotlib.image.AxesImage at 0x25f85749da0>"
      ]
     },
     "execution_count": 27,
     "metadata": {},
     "output_type": "execute_result"
    },
    {
     "data": {
      "image/png": "[encoded data removed]",
      "text/plain": [
       "<matplotlib.figure.Figure at 0x25f85410630>"
      ]
     },
     "metadata": {},
     "output_type": "display_data"
    }
   ],
   "source": [
    "#Plotting image digit\n",
    "plt.imshow(images1[0,0], cmap='gray')"
   ]
  },
  {
   "cell_type": "code",
   "execution_count": 28,
   "metadata": {},
   "outputs": [
    {
     "data": {
      "text/plain": [
       "<matplotlib.image.AxesImage at 0x25f848ef828>"
      ]
     },
     "execution_count": 28,
     "metadata": {},
     "output_type": "execute_result"
    },
    {
     "data": {
      "image/png": "[encoded data removed]",
      "text/plain": [
       "<matplotlib.figure.Figure at 0x25f857860f0>"
      ]
     },
     "metadata": {},
     "output_type": "display_data"
    }
   ],
   "source": [
    "#Plotting image fashion\n",
    "plt.imshow(images2[0,0], cmap='gray')"
   ]
  },
  {
   "cell_type": "code",
   "execution_count": 32,
   "metadata": {},
   "outputs": [],
   "source": [
    "#Transform\n",
    "\n",
    "train_features_1 = pca_1.transform(train_features_1)\n",
    "test_features_1 = pca_1.transform(test_features_1)\n",
    "\n",
    "\n",
    "train_features_2 = pca_2.transform(train_features_2)\n",
    "test_features_2 = pca_2.transform(test_features_2)"
   ]
  },
  {
   "cell_type": "code",
   "execution_count": null,
   "metadata": {},
   "outputs": [],
   "source": []
  },
  {
   "cell_type": "code",
   "execution_count": 33,
   "metadata": {},
   "outputs": [
    {
     "data": {
      "text/plain": [
       "<matplotlib.image.AxesImage at 0x25f84f8fe80>"
      ]
     },
     "execution_count": 33,
     "metadata": {},
     "output_type": "execute_result"
    },
    {
     "data": {
      "image/png": "[encoded data removed]",
      "text/plain": [
       "<matplotlib.figure.Figure at 0x25f85029390>"
      ]
     },
     "metadata": {},
     "output_type": "display_data"
    }
   ],
   "source": [
    "inverse_pca_1 = pca_1.inverse_transform(train_features_1)\n",
    "inverse_pca_1.shape\n",
    "plt.imshow(inverse_pca_1[0].reshape(20,20), cmap = 'gray')"
   ]
  },
  {
   "cell_type": "code",
   "execution_count": 35,
   "metadata": {},
   "outputs": [
    {
     "data": {
      "text/plain": [
       "<matplotlib.image.AxesImage at 0x25f8544ab38>"
      ]
     },
     "execution_count": 35,
     "metadata": {},
     "output_type": "execute_result"
    },
    {
     "data": {
      "image/png": "[encoded data removed]",
      "text/plain": [
       "<matplotlib.figure.Figure at 0x25f84fb5080>"
      ]
     },
     "metadata": {},
     "output_type": "display_data"
    }
   ],
   "source": [
    "inverse_pca_2 = pca_2.inverse_transform(train_features_2)\n",
    "inverse_pca_2.shape\n",
    "plt.imshow(inverse_pca_2[0].reshape(28,28), cmap = 'gray')"
   ]
  },
  {
   "cell_type": "code",
   "execution_count": null,
   "metadata": {},
   "outputs": [],
   "source": []
  }
 ],
 "metadata": {
  "kernelspec": {
   "display_name": "Python 3",
   "language": "python",
   "name": "python3"
  },
  "language_info": {
   "codemirror_mode": {
    "name": "ipython",
    "version": 3
   },
   "file_extension": ".py",
   "mimetype": "text/x-python",
   "name": "python",
   "nbconvert_exporter": "python",
   "pygments_lexer": "ipython3",
   "version": "3.6.3"
  }
 },
 "nbformat": 4,
 "nbformat_minor": 2
}
